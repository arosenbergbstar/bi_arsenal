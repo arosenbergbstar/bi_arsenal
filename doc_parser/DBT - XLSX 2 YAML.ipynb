{
 "cells": [
  {
   "cell_type": "code",
   "execution_count": 69,
   "id": "b9a374df",
   "metadata": {},
   "outputs": [],
   "source": [
    "# https://docs.getdbt.com/reference/configs-and-properties"
   ]
  },
  {
   "cell_type": "code",
   "execution_count": 122,
   "id": "2fbc95b7",
   "metadata": {},
   "outputs": [],
   "source": [
    "import csv, yaml, sys, re, json, ruamel.yaml, os\n",
    "from openpyxl import load_workbook\n",
    "yaml = ruamel.yaml.YAML()\n",
    "yaml.indent(mapping=2, sequence=4, offset=2)"
   ]
  },
  {
   "cell_type": "code",
   "execution_count": 99,
   "id": "ad18c307",
   "metadata": {},
   "outputs": [],
   "source": [
    "# This function forces the YAML to output a python list as an array\n",
    "# rather than an ordered list.\n",
    "def seq(l):\n",
    "    s = ruamel.yaml.comments.CommentedSeq(l)\n",
    "    s.fa.set_flow_style()\n",
    "    return s"
   ]
  },
  {
   "cell_type": "code",
   "execution_count": 164,
   "id": "d5867091",
   "metadata": {},
   "outputs": [],
   "source": [
    "## Schema File Generator\n",
    "# Currently using an exported file, but could connect directly to database to pull infornmation_schema.columns.\n",
    "\n",
    "def get_named_cell_location(cellname):\n",
    "    return list(wb.defined_names[cellname].destinations)[0][1].replace('$','')\n",
    "\n",
    "def write_to_cell(workbook, cell, input_data):\n",
    "    workbook.worksheets[0][cell].value = input_data\n",
    "\n",
    "\n",
    "all_tables_list = set([i.split(',')[1] for i in f.split('\\n') if len(i) >= 2])\n",
    "table_list = [j for j in all_tables_list if 'INT_' in j or 'RPT_' in j or 'FACT_' in j or 'DIM_' in j or 'STG_' in j] \n",
    "for table_name in table_list:\n",
    "    wb = load_workbook(filename = 'documentation.adamr.template.xlsx')\n",
    "    schema_name = [i.split(',') for i in f.split('\\n')[1:] if len(i)>1 and i.split(',')[1] == table_name][0][0]\n",
    "    table_meta = {}\n",
    "    table_tags = []\n",
    "\n",
    "    owner_tag = \"@adamr\"\n",
    "    if owner_tag:\n",
    "        table_meta[\"owner\"] = owner_tag\n",
    "\n",
    "    is_hourly = True\n",
    "    if is_hourly:\n",
    "        table_tags.append('hourly')\n",
    "        \n",
    "    f = open('schemas_2023_05_26.csv','r').read()\n",
    "    table_name_lower = table_name.lower()\n",
    "    l = [i.split(',') for i in f.split('\\n') if table_name in i]\n",
    "    write_to_cell(wb, get_named_cell_location('table_name'), table_name)\n",
    "    write_to_cell(wb, get_named_cell_location('table_meta'), str(table_meta).replace(\"'\",'\"'))\n",
    "    if is_hourly:\n",
    "        write_to_cell(wb, get_named_cell_location('table_tags'), ','.join(table_tags))\n",
    "        \n",
    "    if 'INT_' in table_name or 'RPT_' in table_name:\n",
    "        write_to_cell(wb,get_named_cell_location('table_full_refresh'), True)\n",
    "        \n",
    "    for i in range(0,len(l)):\n",
    "        i_12 = i+12\n",
    "        write_to_cell(wb,f'A{i_12}',l[i][2])\n",
    "        write_to_cell(wb,f'B{i_12}',l[i][3])\n",
    "    \n",
    "    if schema_name not in os.listdir('docfiles'):\n",
    "            os.mkdir(f'docfiles/{schema_name}')\n",
    "    \n",
    "    wb.save(f'docfiles/{schema_name}/documentation.adamr.{table_name_lower}.xlsx')"
   ]
  },
  {
   "cell_type": "code",
   "execution_count": 165,
   "id": "c3e64bda",
   "metadata": {},
   "outputs": [],
   "source": [
    "# load workbook\n",
    "for schema_upper in [i for i in os.listdir('docfiles') if i != 'OUTPUT']: \n",
    "    output = {}\n",
    "    models=[]\n",
    "    schema = schema_upper.lower()\n",
    "    for file in os.listdir(f'docfiles/{schema_upper}'):\n",
    "        wb = load_workbook(filename = f'docfiles/{schema_upper}/{file}')\n",
    "\n",
    "        ws = wb.worksheets[0]\n",
    "        table_data={}\n",
    "        table_inputs = [(j[0].value.lower(), j[1].value) for j in ws['A2:B8']]\n",
    "        for i in table_inputs:\n",
    "            k=i[0] # key\n",
    "            v=i[1] # value\n",
    "            if v is None:\n",
    "                continue\n",
    "            if k in ['name','description']:\n",
    "                table_data[k] = v\n",
    "            else:\n",
    "                if 'config' not in table_data:\n",
    "                    table_data['config']={}\n",
    "\n",
    "                if k == 'meta':\n",
    "                    table_data['config'][k]=json.loads(v)\n",
    "                elif k == 'tags':\n",
    "                    table_data['config'][k]=v.split(',')\n",
    "                else:\n",
    "                    table_data['config'][k]=v\n",
    "\n",
    "        columns=[]\n",
    "        for item in ws['A12:{:s}{:d}'.format([i.coordinate for i in ws[11]][-1][0],ws.max_row)]:\n",
    "            column_cells = [i for i in ws[11]]\n",
    "            col_data={}\n",
    "            for ix, column in enumerate(column_cells):\n",
    "                if item[ix].value is None:\n",
    "                    continue\n",
    "                column_name = column.value.lower()\n",
    "                if column_name == 'tests_standard':\n",
    "                    col_data['tests'] = item[ix].value.split(',')\n",
    "                elif column_name == 'tests_accepted_values':\n",
    "                    if 'tests' not in col_data:\n",
    "                        col_data['tests'] = []\n",
    "\n",
    "                    obj = {}\n",
    "                    val = {}\n",
    "                    val['values'] = seq(item[ix].value.split(','))\n",
    "                    obj['accepted_values'] = val\n",
    "                    col_data['tests'].append(obj)\n",
    "                elif column_name == 'meta':        \n",
    "                    col_data['meta']={}\n",
    "                    for i in item[5].value.split('|'):\n",
    "                        for k,v in json.loads(i).items():\n",
    "                            col_data['meta'][k]=v\n",
    "                else:                \n",
    "                    col_data[column.value.lower()] = item[ix].value \n",
    "\n",
    "            columns.append(col_data)\n",
    "\n",
    "        table_data['columns']=columns\n",
    "        models.append(table_data)\n",
    "\n",
    "    output['version'] = 2\n",
    "    output['models'] = models\n",
    "    with open(f'docfiles/OUTPUT/documentation.adamr.{schema}.yml','w') as o:\n",
    "        yaml.dump(output,o)"
   ]
  },
  {
   "cell_type": "code",
   "execution_count": null,
   "id": "c91ea728",
   "metadata": {},
   "outputs": [],
   "source": []
  },
  {
   "cell_type": "code",
   "execution_count": null,
   "id": "d8621880",
   "metadata": {},
   "outputs": [],
   "source": []
  },
  {
   "cell_type": "code",
   "execution_count": null,
   "id": "a6e84abe",
   "metadata": {},
   "outputs": [],
   "source": [
    "    table_data['name']=ws['B1'].value.lower()\n",
    "    table_data['description']=ws['B2'].value\n",
    "    table_data['config']={}\n",
    "    table_data['config']['meta']={}\n",
    "    for i in ws['B3'].value.split('|'):\n",
    "        meta_items = i.split(':')\n",
    "        table_data['config']['meta'][meta_items[0]]=meta_items[1].strip()"
   ]
  },
  {
   "cell_type": "code",
   "execution_count": 297,
   "id": "2b058197",
   "metadata": {},
   "outputs": [
    {
     "data": {
      "text/plain": [
       "[('name', 'rpt_lab_event_log'),\n",
       " ('description',\n",
       "  'A Key-Value Datastore with metadata, with data for all events related to the CLIA laboratory process'),\n",
       " ('meta', '{owner: @adamr}'),\n",
       " ('tags', 'hourly,test'),\n",
       " ('enabled', 'true'),\n",
       " ('full refresh', 'true'),\n",
       " ('grants', None)]"
      ]
     },
     "execution_count": 297,
     "metadata": {},
     "output_type": "execute_result"
    }
   ],
   "source": [
    "[(j[0].value.lower(), j[1].value) for ix, j in enumerate(wb.worksheets[0]['A2:B8'])]"
   ]
  }
 ],
 "metadata": {
  "kernelspec": {
   "display_name": "Python 3 (ipykernel)",
   "language": "python",
   "name": "python3"
  },
  "language_info": {
   "codemirror_mode": {
    "name": "ipython",
    "version": 3
   },
   "file_extension": ".py",
   "mimetype": "text/x-python",
   "name": "python",
   "nbconvert_exporter": "python",
   "pygments_lexer": "ipython3",
   "version": "3.9.16"
  }
 },
 "nbformat": 4,
 "nbformat_minor": 5
}
